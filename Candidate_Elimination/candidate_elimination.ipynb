{
 "cells": [
  {
   "cell_type": "code",
   "execution_count": 5,
   "id": "13f4b567",
   "metadata": {},
   "outputs": [
    {
     "name": "stdout",
     "output_type": "stream",
     "text": [
      "[['sky', 'air_temp', 'humidity', 'wind', 'water', 'forest', 'enjoy_sport'], ['sunny', 'warm', 'wind', 'strong', 'warm', 'same', 'yes'], ['sunny', 'warm', 'high', 'strong', 'warm', 'same', 'yes'], ['rainy', 'cold', 'high', 'strong', 'warm', 'change', 'no'], ['sunny', 'warm', 'high', 'strong', 'cool', 'change', 'yes']] \n",
      "\n",
      "initial specific hypothesis is = ['0', '0', '0', '0', '0', '0']\n",
      "initial general hypothesis is = [['?', '?', '?', '?', '?', '?']]\n",
      "S hypothesis after row 1 = ['sunny', 'warm', 'wind', 'strong', 'warm', 'same']\n",
      "G hypothesis after row 1 = [['?', '?', '?', '?', '?', '?']]\n",
      "S hypothesis after row 2 = ['sunny', 'warm', '?', 'strong', 'warm', 'same']\n",
      "G hypothesis after row 2 = [['?', '?', '?', '?', '?', '?']]\n",
      "S hypothesis after row 3 = ['sunny', 'warm', '?', 'strong', 'warm', 'same']\n",
      "G hypothesis after row 3 = [['sunny', '?', '?', '?', '?', '?'], ['?', 'warm', '?', '?', '?', '?'], ['?', '?', '?', '?', '?', 'same']]\n",
      "S hypothesis after row 4 = ['sunny', 'warm', '?', 'strong', '?', '?']\n",
      "G hypothesis after row 4 = [['sunny', '?', '?', '?', '?', '?'], ['?', 'warm', '?', '?', '?', '?']]\n",
      "final shypothesis ['sunny', 'warm', '?', 'strong', '?', '?']\n",
      "final ghypothesis [['sunny', '?', '?', '?', '?', '?'], ['?', 'warm', '?', '?', '?', '?']]\n"
     ]
    }
   ],
   "source": [
    "dataarr=[]\n",
    "with open('enjoysport.csv') as f:\n",
    "    for line in f:\n",
    "        dataarr.append(line.strip().split(','))\n",
    "rows = len(dataarr)\n",
    "cols = len(dataarr[0])\n",
    "shypo = ['0']*(cols-1)\n",
    "ghypo = [['?']*(cols-1)]\n",
    "print(dataarr,\"\\n\")\n",
    "print(\"initial specific hypothesis is =\",shypo)\n",
    "print(\"initial general hypothesis is =\",ghypo)\n",
    "\n",
    "for x in range(1,rows):\n",
    "    lst = dataarr[x]\n",
    "    if lst[cols-1] == \"yes\":\n",
    "        for i in range(0,cols-1):\n",
    "            if shypo[i] == lst[i]:\n",
    "                continue\n",
    "            shypo[i]='?' if shypo[i]!='0' else lst[i]\n",
    "            for g in ghypo:\n",
    "                if (g[i]!='?' and shypo[i]=='?'):\n",
    "                    ghypo.remove(g)\n",
    "    elif lst[cols-1]=='no':\n",
    "        ghypo.clear()\n",
    "        for i in range(0,cols-1):\n",
    "            if lst[i]!=shypo[i] and shypo[i]!='?':\n",
    "                temp_lst = ['?']*i + [shypo[i]] + (['?']*(cols-2-i))\n",
    "            if temp_lst not in ghypo:\n",
    "                ghypo.append(temp_lst)\n",
    "    print(\"S hypothesis after row\",x,\"=\",shypo)\n",
    "    print(\"G hypothesis after row\",x,\"=\",ghypo)\n",
    "print(\"final shypothesis\",shypo)\n",
    "print(\"final ghypothesis\",ghypo)"
   ]
  },
  {
   "cell_type": "code",
   "execution_count": null,
   "id": "ff5a569b",
   "metadata": {},
   "outputs": [],
   "source": []
  }
 ],
 "metadata": {
  "kernelspec": {
   "display_name": "Python 3",
   "language": "python",
   "name": "python3"
  },
  "language_info": {
   "codemirror_mode": {
    "name": "ipython",
    "version": 3
   },
   "file_extension": ".py",
   "mimetype": "text/x-python",
   "name": "python",
   "nbconvert_exporter": "python",
   "pygments_lexer": "ipython3",
   "version": "3.8.8"
  }
 },
 "nbformat": 4,
 "nbformat_minor": 5
}
